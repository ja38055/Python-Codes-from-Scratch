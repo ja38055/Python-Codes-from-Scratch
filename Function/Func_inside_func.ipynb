{
 "cells": [
  {
   "cell_type": "code",
   "execution_count": 1,
   "metadata": {},
   "outputs": [
    {
     "name": "stdout",
     "output_type": "stream",
     "text": [
      "Hello! Ravi\n"
     ]
    }
   ],
   "source": [
    "def display(name):\n",
    "    def message():\n",
    "        return 'Hello! '\n",
    "    result = message() + name\n",
    "    return result\n",
    "\n",
    "msg = display('Ravi')\n",
    "print(msg)"
   ]
  },
  {
   "cell_type": "code",
   "execution_count": 2,
   "metadata": {},
   "outputs": [
    {
     "name": "stdout",
     "output_type": "stream",
     "text": [
      "Hello! \n"
     ]
    }
   ],
   "source": [
    "def display():\n",
    "    def message():\n",
    "        return 'Hello! '\n",
    "    return message\n",
    "\n",
    "msg = display()\n",
    "print(msg())"
   ]
  }
 ],
 "metadata": {
  "kernelspec": {
   "display_name": "Python 3",
   "language": "python",
   "name": "python3"
  },
  "language_info": {
   "codemirror_mode": {
    "name": "ipython",
    "version": 3
   },
   "file_extension": ".py",
   "mimetype": "text/x-python",
   "name": "python",
   "nbconvert_exporter": "python",
   "pygments_lexer": "ipython3",
   "version": "3.6.5"
  }
 },
 "nbformat": 4,
 "nbformat_minor": 2
}
