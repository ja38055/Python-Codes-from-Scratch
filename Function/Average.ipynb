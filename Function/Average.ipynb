{
 "cells": [
  {
   "cell_type": "code",
   "execution_count": 2,
   "metadata": {},
   "outputs": [
    {
     "name": "stdout",
     "output_type": "stream",
     "text": [
      "a =  10\n",
      "b =  18\n",
      "Average =  14.0\n"
     ]
    }
   ],
   "source": [
    "def average(a,b):\n",
    "    print('a = ',a)\n",
    "    print('b = ',b)\n",
    "    Avg = (a+b)/2\n",
    "    print('Average = ',Avg)\n",
    "\n",
    "average(10,18)    "
   ]
  },
  {
   "cell_type": "markdown",
   "metadata": {},
   "source": [
    "#### Keyword Argument"
   ]
  },
  {
   "cell_type": "code",
   "execution_count": 3,
   "metadata": {},
   "outputs": [
    {
     "name": "stdout",
     "output_type": "stream",
     "text": [
      "a =  18\n",
      "b =  10\n",
      "Average =  14.0\n"
     ]
    }
   ],
   "source": [
    "def average(a,b):\n",
    "    print('a = ',a)\n",
    "    print('b = ',b)\n",
    "    Avg = (a+b)/2\n",
    "    print('Average = ',Avg)\n",
    "\n",
    "average(b=10,a=18)    "
   ]
  },
  {
   "cell_type": "markdown",
   "metadata": {},
   "source": [
    "#### Default Argument"
   ]
  },
  {
   "cell_type": "code",
   "execution_count": 5,
   "metadata": {},
   "outputs": [
    {
     "name": "stdout",
     "output_type": "stream",
     "text": [
      "a =  10\n",
      "b =  30\n",
      "Average =  20.0\n"
     ]
    }
   ],
   "source": [
    "def average(a=20,b=30):\n",
    "    print('a = ',a)\n",
    "    print('b = ',b)\n",
    "    Avg = (a+b)/2\n",
    "    print('Average = ',Avg)\n",
    "\n",
    "average(10)    "
   ]
  }
 ],
 "metadata": {
  "kernelspec": {
   "display_name": "Python 3",
   "language": "python",
   "name": "python3"
  },
  "language_info": {
   "codemirror_mode": {
    "name": "ipython",
    "version": 3
   },
   "file_extension": ".py",
   "mimetype": "text/x-python",
   "name": "python",
   "nbconvert_exporter": "python",
   "pygments_lexer": "ipython3",
   "version": "3.6.5"
  }
 },
 "nbformat": 4,
 "nbformat_minor": 2
}
