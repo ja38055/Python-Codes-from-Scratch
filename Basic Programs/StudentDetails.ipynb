{
 "cells": [
  {
   "cell_type": "code",
   "execution_count": 1,
   "metadata": {},
   "outputs": [
    {
     "name": "stdin",
     "output_type": "stream",
     "text": [
      "Enter Student ID: 31\n",
      "Enter Student Name: Ravi Kumar\n",
      "Enter Student Marks: 65.45\n"
     ]
    },
    {
     "name": "stdout",
     "output_type": "stream",
     "text": [
      "ID = 31\n",
      "Name = Ravi Kumar\n",
      "Marks = 65.45\n"
     ]
    }
   ],
   "source": [
    "ID = int(input('Enter Student ID:'))\n",
    "Name = input('Enter Student Name:')\n",
    "Marks = float(input('Enter Student Marks:'))\n",
    "\n",
    "print('ID = {}\\nName = {}\\nMarks = {}'.format(ID,Name,Marks))"
   ]
  }
 ],
 "metadata": {
  "kernelspec": {
   "display_name": "Python 3",
   "language": "python",
   "name": "python3"
  },
  "language_info": {
   "codemirror_mode": {
    "name": "ipython",
    "version": 3
   },
   "file_extension": ".py",
   "mimetype": "text/x-python",
   "name": "python",
   "nbconvert_exporter": "python",
   "pygments_lexer": "ipython3",
   "version": "3.6.5"
  }
 },
 "nbformat": 4,
 "nbformat_minor": 2
}
