{
 "cells": [
  {
   "cell_type": "code",
   "execution_count": 2,
   "metadata": {},
   "outputs": [
    {
     "name": "stdin",
     "output_type": "stream",
     "text": [
      "Enter 1st number: 12\n",
      "Enter 2nd number: 14\n",
      "Enter 3rd number: 20\n"
     ]
    },
    {
     "name": "stdout",
     "output_type": "stream",
     "text": [
      "Average of three numbers are 15.33\n"
     ]
    }
   ],
   "source": [
    "num1 = int(input('Enter 1st number:'))\n",
    "num2 = int(input('Enter 2nd number:'))\n",
    "num3 = int(input('Enter 3rd number:'))\n",
    "\n",
    "Avg = (num1 + num2 + num3)/3\n",
    "\n",
    "print('Average of three numbers are %.2f'%Avg)"
   ]
  },
  {
   "cell_type": "code",
   "execution_count": 6,
   "metadata": {},
   "outputs": [
    {
     "name": "stdin",
     "output_type": "stream",
     "text": [
      "Enter three numbers: 12,14,20\n"
     ]
    },
    {
     "name": "stdout",
     "output_type": "stream",
     "text": [
      "Average of three numbers are 15.33\n"
     ]
    }
   ],
   "source": [
    "list1 = [int(x) for x in input('Enter three numbers:').split(sep=',')]\n",
    "\n",
    "Avg = (list1[0] + list1[1] + list1[2])/3\n",
    "\n",
    "print('Average of three numbers are %.2f'%Avg)"
   ]
  },
  {
   "cell_type": "code",
   "execution_count": 8,
   "metadata": {},
   "outputs": [
    {
     "name": "stdin",
     "output_type": "stream",
     "text": [
      "Enter three numbers: 12,14,20\n"
     ]
    },
    {
     "name": "stdout",
     "output_type": "stream",
     "text": [
      "Average of three numbers are 15.33\n"
     ]
    }
   ],
   "source": [
    "a,b,c = [int(x) for x in input('Enter three numbers:').split(sep=',')]\n",
    "\n",
    "Avg = (a + b + c)/3\n",
    "\n",
    "print('Average of three numbers are %.2f'%Avg)"
   ]
  }
 ],
 "metadata": {
  "kernelspec": {
   "display_name": "Python 3",
   "language": "python",
   "name": "python3"
  },
  "language_info": {
   "codemirror_mode": {
    "name": "ipython",
    "version": 3
   },
   "file_extension": ".py",
   "mimetype": "text/x-python",
   "name": "python",
   "nbconvert_exporter": "python",
   "pygments_lexer": "ipython3",
   "version": "3.6.5"
  }
 },
 "nbformat": 4,
 "nbformat_minor": 2
}
