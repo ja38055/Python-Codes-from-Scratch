{
 "cells": [
  {
   "cell_type": "markdown",
   "metadata": {},
   "source": [
    "## Regular Expression\n",
    "#### Sequence Character:-\n",
    "##### 1) \\d - any single digit number between 0-9\n",
    "##### 2) \\D - opposite of \\d means any non digit\n",
    "##### 3) \\s - used for whitespace in a given string\n",
    "##### 4) \\S - used for non whitespace in a given string\n",
    "##### 5) \\w - any alpha numeric value it can be any digit or character(0-9,a-z)\n",
    "##### 6) \\d - any non-alpha numeric value\n",
    "##### 7) \\b - space around words\n",
    "##### 8) \\A - matches only at the start of the string\n",
    "##### 9) \\Z - matches only at the end of the string"
   ]
  },
  {
   "cell_type": "code",
   "execution_count": 3,
   "metadata": {},
   "outputs": [
    {
     "name": "stdout",
     "output_type": "stream",
     "text": [
      "one\n"
     ]
    }
   ],
   "source": [
    "import re\n",
    "string = 'Take up one idea, one idea at a time'\n",
    "result = re.search(r'o\\w\\w',string)\n",
    "print(result.group())"
   ]
  },
  {
   "cell_type": "code",
   "execution_count": 12,
   "metadata": {},
   "outputs": [
    {
     "name": "stdout",
     "output_type": "stream",
     "text": [
      "take\n"
     ]
    }
   ],
   "source": [
    "string1 = string.lower()\n",
    "result1 = re.search(r't\\w\\w\\w',string1)\n",
    "print(result1.group())"
   ]
  }
 ],
 "metadata": {
  "kernelspec": {
   "display_name": "Python 3",
   "language": "python",
   "name": "python3"
  },
  "language_info": {
   "codemirror_mode": {
    "name": "ipython",
    "version": 3
   },
   "file_extension": ".py",
   "mimetype": "text/x-python",
   "name": "python",
   "nbconvert_exporter": "python",
   "pygments_lexer": "ipython3",
   "version": "3.6.5"
  }
 },
 "nbformat": 4,
 "nbformat_minor": 2
}
