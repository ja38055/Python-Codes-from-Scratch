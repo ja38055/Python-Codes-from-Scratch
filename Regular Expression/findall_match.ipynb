{
 "cells": [
  {
   "cell_type": "code",
   "execution_count": 8,
   "metadata": {},
   "outputs": [
    {
     "name": "stdout",
     "output_type": "stream",
     "text": [
      "Search():\n",
      "on\n",
      "\n",
      "findall():\n",
      "['one', 'one']\n",
      "['take', 'time']\n",
      "\n",
      "match():\n",
      "None\n",
      "take\n"
     ]
    }
   ],
   "source": [
    "import re\n",
    "string = 'take up one idea, one idea at a time'\n",
    "\n",
    "# search() return the string when it match with RE, if not, return NONE\n",
    "print('Search():')\n",
    "result = re.search(r'o\\w',string)\n",
    "print(result.group())\n",
    "\n",
    "# findall() return list of string match with RE in given string\n",
    "print('\\nfindall():')\n",
    "result1 = re.findall(r'o\\w\\w',string)\n",
    "print(result1)\n",
    "result2 = re.findall(r't\\w\\w\\w',string)\n",
    "print(result2)\n",
    "\n",
    "# match() start matching wiith first character of string \n",
    "print('\\nmatch():')\n",
    "result3 = re.match(r'o\\w\\w',string)\n",
    "print(result3)\n",
    "result4 = re.match(r't\\w\\w\\w',string)\n",
    "print(result4.group())"
   ]
  }
 ],
 "metadata": {
  "kernelspec": {
   "display_name": "Python 3",
   "language": "python",
   "name": "python3"
  },
  "language_info": {
   "codemirror_mode": {
    "name": "ipython",
    "version": 3
   },
   "file_extension": ".py",
   "mimetype": "text/x-python",
   "name": "python",
   "nbconvert_exporter": "python",
   "pygments_lexer": "ipython3",
   "version": "3.6.5"
  }
 },
 "nbformat": 4,
 "nbformat_minor": 2
}
