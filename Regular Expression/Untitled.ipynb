{
 "cells": [
  {
   "cell_type": "markdown",
   "metadata": {},
   "source": [
    "### Special Characters\n",
    "#### \\  => to use any regular expression we use backward slash(\\)\n",
    "#### .  => matches any character except new line\n",
    "#### ^  => matches any regular expression from the beginning of the string\n",
    "#### $  => matches any regular expression at the end of the string\n",
    "#### [...] => we can pass a range of character in [] and it will match that character for you \n",
    "#### [^...] => it is opposite of [...] it wil search all the character except which are in []\n",
    "#### (...) => we can pass any RE in [] it will match that RE for you\n",
    "#### R|S => it is use to provide multiple regular expression"
   ]
  },
  {
   "cell_type": "code",
   "execution_count": 7,
   "metadata": {},
   "outputs": [
    {
     "name": "stdout",
     "output_type": "stream",
     "text": [
      "on\n",
      "one\n",
      "None\n"
     ]
    }
   ],
   "source": [
    "import re\n",
    "\n",
    "string = 'Take up one idea, one idea at a time'\n",
    "\n",
    "result = re.search(r'o\\w',string)\n",
    "print(result.group())\n",
    "\n",
    "result = re.search(r'o\\w+',string)\n",
    "print(result.group())\n",
    "\n",
    "result = re.search(r'^o\\w*',string)\n",
    "print(result)"
   ]
  }
 ],
 "metadata": {
  "kernelspec": {
   "display_name": "Python 3",
   "language": "python",
   "name": "python3"
  },
  "language_info": {
   "codemirror_mode": {
    "name": "ipython",
    "version": 3
   },
   "file_extension": ".py",
   "mimetype": "text/x-python",
   "name": "python",
   "nbconvert_exporter": "python",
   "pygments_lexer": "ipython3",
   "version": "3.6.5"
  }
 },
 "nbformat": 4,
 "nbformat_minor": 2
}
