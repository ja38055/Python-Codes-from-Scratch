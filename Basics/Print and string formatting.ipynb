{
 "cells": [
  {
   "cell_type": "code",
   "execution_count": 8,
   "metadata": {},
   "outputs": [
    {
     "name": "stdout",
     "output_type": "stream",
     "text": [
      "\n",
      "Hello Hello Hello \n",
      "This is how \n",
      "to use print function\n",
      "10,20\n",
      "10 & 20\n",
      "Name is  John , Marks are  96.568\n",
      "Name is John, Marks are 96.568000\n",
      "Name is John, Marks are 96.568\n",
      "Name is John, Marks are 96.568\n"
     ]
    }
   ],
   "source": [
    "print()\n",
    "print('Hello '*3)\n",
    "print('This is how \\nto use print function')\n",
    "\n",
    "a,b = 10,20\n",
    "print(a,b,sep=',')\n",
    "print(a,b,sep=' & ')\n",
    "\n",
    "name, marks = 'John', 96.568\n",
    "\n",
    "print('Name is ',name,', Marks are ',marks)\n",
    "print('Name is %s, Marks are %f'%(name,marks))\n",
    "print('Name is {}, Marks are {}'.format(name,marks))\n",
    "print('Name is {1}, Marks are {0}'.format(marks,name))"
   ]
  }
 ],
 "metadata": {
  "kernelspec": {
   "display_name": "Python 3",
   "language": "python",
   "name": "python3"
  },
  "language_info": {
   "codemirror_mode": {
    "name": "ipython",
    "version": 3
   },
   "file_extension": ".py",
   "mimetype": "text/x-python",
   "name": "python",
   "nbconvert_exporter": "python",
   "pygments_lexer": "ipython3",
   "version": "3.6.5"
  }
 },
 "nbformat": 4,
 "nbformat_minor": 2
}
