{
 "cells": [
  {
   "cell_type": "code",
   "execution_count": 17,
   "metadata": {},
   "outputs": [
    {
     "name": "stdout",
     "output_type": "stream",
     "text": [
      "['India', 'Japan', 'China']\n",
      "['India', 'Japan', 'China', 'Pakistan']\n",
      "['India', 'Japan', 'Pakistan']\n",
      "['India', 'America', 'Japan', 'Pakistan']\n"
     ]
    }
   ],
   "source": [
    "country = ['India', 'Japan', 'China']\n",
    "print(country)\n",
    "\n",
    "country.append('Pakistan')\n",
    "\n",
    "print(country)\n",
    "\n",
    "country.pop(2)\n",
    "print(country)\n",
    "\n",
    "country.insert(len(country)//2, 'America')\n",
    "print(country)"
   ]
  },
  {
   "cell_type": "code",
   "execution_count": null,
   "metadata": {},
   "outputs": [],
   "source": []
  }
 ],
 "metadata": {
  "kernelspec": {
   "display_name": "Python 3",
   "language": "python",
   "name": "python3"
  },
  "language_info": {
   "codemirror_mode": {
    "name": "ipython",
    "version": 3
   },
   "file_extension": ".py",
   "mimetype": "text/x-python",
   "name": "python",
   "nbconvert_exporter": "python",
   "pygments_lexer": "ipython3",
   "version": "3.6.5"
  }
 },
 "nbformat": 4,
 "nbformat_minor": 2
}
