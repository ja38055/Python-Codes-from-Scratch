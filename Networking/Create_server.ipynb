{
 "cells": [
  {
   "cell_type": "code",
   "execution_count": 1,
   "metadata": {},
   "outputs": [],
   "source": [
    "import socket"
   ]
  },
  {
   "cell_type": "code",
   "execution_count": null,
   "metadata": {},
   "outputs": [
    {
     "name": "stdout",
     "output_type": "stream",
     "text": [
      "Server listening on port: 4000\n"
     ]
    }
   ],
   "source": [
    "host = 'localhost'\n",
    "port = 4000\n",
    "s = socket.socket(socket.AF_INET, socket.SOCK_STREAM)\n",
    "# AF_INET means IPv4 and SOCK_STREAM means TCP/IP\n",
    "\n",
    "s.bind((host,port))\n",
    "s.listen(1)\n",
    "print('Server listening on port:',port)\n",
    "\n",
    "c,addr = s.accept()\n",
    "\n",
    "print('Connection from:',str(addr))\n",
    "\n",
    "c.send(b'Hello, how are you?')      # here b is used to convert the string into binary\n",
    "c.send('bye'.encode())              # encode() is used to convert the string into binary\n",
    "\n",
    "c.close()"
   ]
  }
 ],
 "metadata": {
  "kernelspec": {
   "display_name": "Python 3",
   "language": "python",
   "name": "python3"
  },
  "language_info": {
   "codemirror_mode": {
    "name": "ipython",
    "version": 3
   },
   "file_extension": ".py",
   "mimetype": "text/x-python",
   "name": "python",
   "nbconvert_exporter": "python",
   "pygments_lexer": "ipython3",
   "version": "3.6.5"
  }
 },
 "nbformat": 4,
 "nbformat_minor": 2
}
