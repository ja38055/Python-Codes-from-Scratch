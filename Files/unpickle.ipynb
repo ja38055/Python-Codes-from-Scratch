{
 "cells": [
  {
   "cell_type": "code",
   "execution_count": 7,
   "metadata": {},
   "outputs": [
    {
     "name": "stdout",
     "output_type": "stream",
     "text": [
      "123\n",
      "John\n",
      "90\n"
     ]
    }
   ],
   "source": [
    "import pickle,os\n",
    "\n",
    "if os.path.getsize('student.dat') > 0:\n",
    "    f = open('student.dat','rb')\n",
    "    obj = pickle.load(f)\n",
    "    obj.display()\n",
    "    f.close()\n",
    "else:\n",
    "    print('File is empty')"
   ]
  }
 ],
 "metadata": {
  "kernelspec": {
   "display_name": "Python 3",
   "language": "python",
   "name": "python3"
  },
  "language_info": {
   "codemirror_mode": {
    "name": "ipython",
    "version": 3
   },
   "file_extension": ".py",
   "mimetype": "text/x-python",
   "name": "python",
   "nbconvert_exporter": "python",
   "pygments_lexer": "ipython3",
   "version": "3.6.5"
  }
 },
 "nbformat": 4,
 "nbformat_minor": 2
}
