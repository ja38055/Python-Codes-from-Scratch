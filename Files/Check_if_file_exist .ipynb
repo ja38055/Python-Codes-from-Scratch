{
 "cells": [
  {
   "cell_type": "code",
   "execution_count": 2,
   "metadata": {},
   "outputs": [
    {
     "name": "stdout",
     "output_type": "stream",
     "text": [
      "File does not exist\n"
     ]
    }
   ],
   "source": [
    "import os,sys\n",
    "\n",
    "if os.path.isfile('myfile2.txt'):\n",
    "    f = open('myfile2.txt','r')\n",
    "    s = f.read()\n",
    "    print(s)\n",
    "    f.close()\n",
    "else:\n",
    "    print('File does not exist')"
   ]
  },
  {
   "cell_type": "code",
   "execution_count": 3,
   "metadata": {},
   "outputs": [
    {
     "name": "stdout",
     "output_type": "stream",
     "text": [
      "hello Python!\n",
      "I almost done with you\n",
      "you are really a very interesting language\n",
      "#\n",
      "\n"
     ]
    }
   ],
   "source": [
    "import os,sys\n",
    "\n",
    "if os.path.isfile('myfile1.txt'):\n",
    "    f = open('myfile1.txt','r')\n",
    "    s = f.read()\n",
    "    print(s)\n",
    "    f.close()\n",
    "else:\n",
    "    print('File does not exist')"
   ]
  },
  {
   "cell_type": "code",
   "execution_count": 7,
   "metadata": {},
   "outputs": [
    {
     "name": "stdout",
     "output_type": "stream",
     "text": [
      "File does not exist\n"
     ]
    },
    {
     "ename": "SystemExit",
     "evalue": "",
     "output_type": "error",
     "traceback": [
      "An exception has occurred, use %tb to see the full traceback.\n",
      "\u001b[1;31mSystemExit\u001b[0m\n"
     ]
    },
    {
     "name": "stderr",
     "output_type": "stream",
     "text": [
      "C:\\Users\\Dell\\Anaconda3\\lib\\site-packages\\IPython\\core\\interactiveshell.py:2971: UserWarning: To exit: use 'exit', 'quit', or Ctrl-D.\n",
      "  warn(\"To exit: use 'exit', 'quit', or Ctrl-D.\", stacklevel=1)\n"
     ]
    }
   ],
   "source": [
    "import os,sys\n",
    "\n",
    "if os.path.isfile('myfile21.txt'):\n",
    "    f = open('myfile21.txt','r')\n",
    "else:\n",
    "    print('File does not exist')\n",
    "    sys.exit()\n",
    "\n",
    "s = f.read()\n",
    "print(s)\n",
    "f.close()    "
   ]
  },
  {
   "cell_type": "code",
   "execution_count": 8,
   "metadata": {},
   "outputs": [
    {
     "name": "stdout",
     "output_type": "stream",
     "text": [
      "hello Python!\n",
      "I almost done with you\n",
      "you are really a very interesting language\n",
      "#\n",
      "\n"
     ]
    }
   ],
   "source": [
    "import os,sys\n",
    "\n",
    "if os.path.isfile('myfile1.txt'):\n",
    "    f = open('myfile1.txt','r')\n",
    "else:\n",
    "    print('File does not exist')\n",
    "    sys.exit()\n",
    "\n",
    "s = f.read()\n",
    "print(s)\n",
    "f.close()    "
   ]
  }
 ],
 "metadata": {
  "kernelspec": {
   "display_name": "Python 3",
   "language": "python",
   "name": "python3"
  },
  "language_info": {
   "codemirror_mode": {
    "name": "ipython",
    "version": 3
   },
   "file_extension": ".py",
   "mimetype": "text/x-python",
   "name": "python",
   "nbconvert_exporter": "python",
   "pygments_lexer": "ipython3",
   "version": "3.6.5"
  }
 },
 "nbformat": 4,
 "nbformat_minor": 2
}
