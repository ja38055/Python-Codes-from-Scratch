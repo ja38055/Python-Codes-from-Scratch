{
 "cells": [
  {
   "cell_type": "markdown",
   "metadata": {},
   "source": [
    "#### Syntax:\n",
    "#### --------------------------------------------------------------------------------\n",
    "### open('filename','mode','buffer')\n",
    "#### --------------------------------------------------------------------------------\n",
    "#### 1. filename :- Name of the file on which you have to perform the task\n",
    "#### 1. mode :- In which mode you want to open the file-\n",
    "#####  a) w - write mode\n",
    "#####  b) r - read mode\n",
    "#####  c) a - append mode\n",
    "#####  d) w+ - write and read mode\n",
    "#####  e) r+ - read, write and append mode\n",
    "#####  f) a+ - append and read mode\n",
    "#####  g) x -  exclusive mode\n",
    "#### 1. buffer(Optional) :- buffering while reading or writing the file"
   ]
  },
  {
   "cell_type": "code",
   "execution_count": 75,
   "metadata": {},
   "outputs": [
    {
     "name": "stdin",
     "output_type": "stream",
     "text": [
      "Enter text: Hello fraands! chai pilo, garam hai\n"
     ]
    }
   ],
   "source": [
    "f = open('myfile.txt','w')\n",
    "s = input('Enter text:')\n",
    "f.write(s)\n",
    "f.close()"
   ]
  }
 ],
 "metadata": {
  "kernelspec": {
   "display_name": "Python 3",
   "language": "python",
   "name": "python3"
  },
  "language_info": {
   "codemirror_mode": {
    "name": "ipython",
    "version": 3
   },
   "file_extension": ".py",
   "mimetype": "text/x-python",
   "name": "python",
   "nbconvert_exporter": "python",
   "pygments_lexer": "ipython3",
   "version": "3.6.5"
  }
 },
 "nbformat": 4,
 "nbformat_minor": 2
}
