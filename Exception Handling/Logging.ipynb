{
 "cells": [
  {
   "cell_type": "code",
   "execution_count": 3,
   "metadata": {},
   "outputs": [
    {
     "name": "stdin",
     "output_type": "stream",
     "text": [
      "Enter Two numbers seperated by space: 4 0\n"
     ]
    },
    {
     "name": "stdout",
     "output_type": "stream",
     "text": [
      "a= 4 \n",
      "b= 0\n",
      "***Second value should not be zero***\n",
      "\n",
      "Code after Exception\n"
     ]
    }
   ],
   "source": [
    "import logging\n",
    "logging.basicConfig(filename='filelog.log',level=logging.DEBUG)\n",
    "try:\n",
    "    logging.info('Division Program')\n",
    "    a,b = [int(x) for x in input('Enter Two numbers seperated by space:').split()]\n",
    "    print('a=',a,'\\nb=',b)\n",
    "    c = a/b\n",
    "    \n",
    "except ZeroDivisionError:\n",
    "    logging.error(\"Can't Divisible by Zero\")\n",
    "    print('***Second value should not be zero***')\n",
    "else:\n",
    "    print('\\n***Else Block Executed***')\n",
    "    print('c = a/b = ',c)\n",
    "print('\\nCode after Exception')"
   ]
  }
 ],
 "metadata": {
  "kernelspec": {
   "display_name": "Python 3",
   "language": "python",
   "name": "python3"
  },
  "language_info": {
   "codemirror_mode": {
    "name": "ipython",
    "version": 3
   },
   "file_extension": ".py",
   "mimetype": "text/x-python",
   "name": "python",
   "nbconvert_exporter": "python",
   "pygments_lexer": "ipython3",
   "version": "3.6.5"
  }
 },
 "nbformat": 4,
 "nbformat_minor": 2
}
