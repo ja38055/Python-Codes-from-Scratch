{
 "cells": [
  {
   "cell_type": "code",
   "execution_count": 2,
   "metadata": {},
   "outputs": [
    {
     "name": "stdin",
     "output_type": "stream",
     "text": [
      "Enter Two numbers seperated by space: 4 0\n"
     ]
    },
    {
     "name": "stdout",
     "output_type": "stream",
     "text": [
      "a= 4 \n",
      "b= 0\n",
      "***Second value should not be zero***\n",
      "\n",
      "Code after Exception\n"
     ]
    }
   ],
   "source": [
    "try:\n",
    "    f = open('myfile','w')\n",
    "    a,b = [int(x) for x in input('Enter Two numbers seperated by space:').split()]\n",
    "    print('a=',a,'\\nb=',b)\n",
    "    c = a/b\n",
    "    f.write('Writing %d into the file'%c)\n",
    "    \n",
    "except ZeroDivisionError:\n",
    "    print('***Second value should not be zero***')\n",
    "print('\\nCode after Exception')"
   ]
  },
  {
   "cell_type": "code",
   "execution_count": 10,
   "metadata": {},
   "outputs": [
    {
     "name": "stdin",
     "output_type": "stream",
     "text": [
      "Enter Two numbers seperated by space: 4 2\n"
     ]
    },
    {
     "name": "stdout",
     "output_type": "stream",
     "text": [
      "a= 4 \n",
      "b= 2\n",
      "File closed\n",
      "\n",
      "Code after Exception\n"
     ]
    }
   ],
   "source": [
    "try:\n",
    "    f = open('myfile','w')\n",
    "    a,b = [int(x) for x in input('Enter Two numbers seperated by space:').split()]\n",
    "    print('a=',a,'\\nb=',b)\n",
    "    c = a/b\n",
    "    f.write('Writing %d into the file'%c)\n",
    "    \n",
    "except ZeroDivisionError:\n",
    "    print('***Second value should not be zero***')\n",
    "finally:\n",
    "    f.close()\n",
    "    print('File closed')\n",
    "print('\\nCode after Exception')"
   ]
  }
 ],
 "metadata": {
  "kernelspec": {
   "display_name": "Python 3",
   "language": "python",
   "name": "python3"
  },
  "language_info": {
   "codemirror_mode": {
    "name": "ipython",
    "version": 3
   },
   "file_extension": ".py",
   "mimetype": "text/x-python",
   "name": "python",
   "nbconvert_exporter": "python",
   "pygments_lexer": "ipython3",
   "version": "3.6.5"
  }
 },
 "nbformat": 4,
 "nbformat_minor": 2
}
