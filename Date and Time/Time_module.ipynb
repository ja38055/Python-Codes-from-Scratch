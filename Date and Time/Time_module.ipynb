{
 "cells": [
  {
   "cell_type": "code",
   "execution_count": 21,
   "metadata": {},
   "outputs": [
    {
     "name": "stdout",
     "output_type": "stream",
     "text": [
      "Seconds: 1535381230.0676343\n",
      "Minutes: 25589687.167793907\n",
      "Hours: 426494.78612989845\n",
      "Days: 17770.61608874577\n",
      "Months: 592.353869624859\n",
      "Years: 49.36282246873825\n"
     ]
    }
   ],
   "source": [
    "import time\n",
    "epochsecond = time.time()\n",
    "print('Seconds:',epochsecond)\n",
    "epochminute = epochsecond/60\n",
    "print('Minutes:',epochminute)\n",
    "epochhour = epochminute/60\n",
    "print('Hours:',epochhour)\n",
    "epochday = epochhour/24\n",
    "print('Days:',epochday)\n",
    "epochmonth = epochday/30\n",
    "print('Months:',epochmonth)\n",
    "epochyear = epochmonth/12\n",
    "print('Years:',epochyear)"
   ]
  },
  {
   "cell_type": "code",
   "execution_count": 22,
   "metadata": {},
   "outputs": [
    {
     "name": "stdout",
     "output_type": "stream",
     "text": [
      "Seconds: 1535381342.038517\n"
     ]
    },
    {
     "data": {
      "text/plain": [
       "'Mon Aug 27 20:19:02 2018'"
      ]
     },
     "execution_count": 22,
     "metadata": {},
     "output_type": "execute_result"
    }
   ],
   "source": [
    "import time\n",
    "epochsecond = time.time()\n",
    "print('Seconds:',epochsecond)\n",
    "t = time.ctime(epochsecond)\n",
    "t"
   ]
  }
 ],
 "metadata": {
  "kernelspec": {
   "display_name": "Python 3",
   "language": "python",
   "name": "python3"
  },
  "language_info": {
   "codemirror_mode": {
    "name": "ipython",
    "version": 3
   },
   "file_extension": ".py",
   "mimetype": "text/x-python",
   "name": "python",
   "nbconvert_exporter": "python",
   "pygments_lexer": "ipython3",
   "version": "3.6.5"
  }
 },
 "nbformat": 4,
 "nbformat_minor": 2
}
