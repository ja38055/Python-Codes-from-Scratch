{
 "cells": [
  {
   "cell_type": "code",
   "execution_count": 1,
   "metadata": {},
   "outputs": [],
   "source": [
    "from datetime import date\n",
    "import time"
   ]
  },
  {
   "cell_type": "code",
   "execution_count": 2,
   "metadata": {},
   "outputs": [
    {
     "name": "stdout",
     "output_type": "stream",
     "text": [
      "2016-07-21\n",
      "2016-08-21\n",
      "2017-08-21\n",
      "Execution Time(in sec): 0.0014127679202667594\n"
     ]
    }
   ],
   "source": [
    "start_time = time.perf_counter()\n",
    "d1 = date(2016,8,21)\n",
    "d2 = date(2017,8,21)\n",
    "d3 = date(2016,7,21)\n",
    "\n",
    "ldates = [d1,d2,d3]\n",
    "\n",
    "ldates.sort()\n",
    "for i in ldates:\n",
    "    print(i)\n",
    "    \n",
    "end_time = time.perf_counter()    \n",
    "print('Execution Time(in sec):', end_time-start_time)"
   ]
  },
  {
   "cell_type": "code",
   "execution_count": 3,
   "metadata": {},
   "outputs": [
    {
     "name": "stdout",
     "output_type": "stream",
     "text": [
      "2016-07-21\n",
      "2016-08-21\n",
      "2017-08-21\n",
      "Execution Time(in sec): 9.003422037851315\n"
     ]
    }
   ],
   "source": [
    "start_time = time.perf_counter()\n",
    "d1 = date(2016,8,21)\n",
    "d2 = date(2017,8,21)\n",
    "d3 = date(2016,7,21)\n",
    "\n",
    "ldates = [d1,d2,d3]\n",
    "\n",
    "ldates.sort()\n",
    "for i in ldates:\n",
    "    print(i)\n",
    "    time.sleep(3)\n",
    "    \n",
    "end_time = time.perf_counter()    \n",
    "print('Execution Time(in sec):', end_time-start_time)"
   ]
  }
 ],
 "metadata": {
  "kernelspec": {
   "display_name": "Python 3",
   "language": "python",
   "name": "python3"
  },
  "language_info": {
   "codemirror_mode": {
    "name": "ipython",
    "version": 3
   },
   "file_extension": ".py",
   "mimetype": "text/x-python",
   "name": "python",
   "nbconvert_exporter": "python",
   "pygments_lexer": "ipython3",
   "version": "3.6.5"
  }
 },
 "nbformat": 4,
 "nbformat_minor": 2
}
