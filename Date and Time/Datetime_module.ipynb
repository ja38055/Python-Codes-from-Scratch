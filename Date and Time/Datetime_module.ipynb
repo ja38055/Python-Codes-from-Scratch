{
 "cells": [
  {
   "cell_type": "code",
   "execution_count": 1,
   "metadata": {},
   "outputs": [],
   "source": [
    "import datetime"
   ]
  },
  {
   "cell_type": "code",
   "execution_count": 12,
   "metadata": {},
   "outputs": [
    {
     "name": "stdout",
     "output_type": "stream",
     "text": [
      "2018-08-27 20:26:16.442712\n",
      "Current Date: 27/8/2018\n",
      "Current Time: 20:26:16\n"
     ]
    }
   ],
   "source": [
    "dt = datetime.datetime.today()\n",
    "print(dt)\n",
    "print('Current Date: {}/{}/{}'.format(dt.day,dt.month,dt.year))\n",
    "print('Current Time: {}:{}:{}'.format(dt.hour,dt.minute,dt.second))"
   ]
  }
 ],
 "metadata": {
  "kernelspec": {
   "display_name": "Python 3",
   "language": "python",
   "name": "python3"
  },
  "language_info": {
   "codemirror_mode": {
    "name": "ipython",
    "version": 3
   },
   "file_extension": ".py",
   "mimetype": "text/x-python",
   "name": "python",
   "nbconvert_exporter": "python",
   "pygments_lexer": "ipython3",
   "version": "3.6.5"
  }
 },
 "nbformat": 4,
 "nbformat_minor": 2
}
