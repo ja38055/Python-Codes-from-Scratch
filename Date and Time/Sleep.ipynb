{
 "cells": [
  {
   "cell_type": "code",
   "execution_count": 1,
   "metadata": {},
   "outputs": [],
   "source": [
    "from datetime import date\n",
    "import time"
   ]
  },
  {
   "cell_type": "code",
   "execution_count": 2,
   "metadata": {},
   "outputs": [
    {
     "name": "stdout",
     "output_type": "stream",
     "text": [
      "2016-07-21\n",
      "2016-08-21\n",
      "2017-08-21\n"
     ]
    }
   ],
   "source": [
    "d1 = date(2016,8,21)\n",
    "d2 = date(2017,8,21)\n",
    "d3 = date(2016,7,21)\n",
    "\n",
    "ldates = [d1,d2,d3]\n",
    "\n",
    "ldates.sort()\n",
    "for i in ldates:\n",
    "    print(i)\n",
    "    time.sleep(3)"
   ]
  }
 ],
 "metadata": {
  "kernelspec": {
   "display_name": "Python 3",
   "language": "python",
   "name": "python3"
  },
  "language_info": {
   "codemirror_mode": {
    "name": "ipython",
    "version": 3
   },
   "file_extension": ".py",
   "mimetype": "text/x-python",
   "name": "python",
   "nbconvert_exporter": "python",
   "pygments_lexer": "ipython3",
   "version": "3.6.5"
  }
 },
 "nbformat": 4,
 "nbformat_minor": 2
}
