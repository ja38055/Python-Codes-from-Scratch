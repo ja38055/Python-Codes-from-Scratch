{
 "cells": [
  {
   "cell_type": "code",
   "execution_count": 3,
   "metadata": {},
   "outputs": [
    {
     "name": "stdout",
     "output_type": "stream",
     "text": [
      "Starting Airbus Engine\n",
      "\n",
      "Starting Boing Engine\n",
      "\n"
     ]
    }
   ],
   "source": [
    "class Engine:\n",
    "    def __init__(self,engine):\n",
    "        self.engine = engine\n",
    "    def startEngine(self):\n",
    "        self.engine.start()\n",
    "        \n",
    "class AirbusEngine:\n",
    "    def start(self):\n",
    "        print('Starting Airbus Engine\\n')\n",
    "            \n",
    "class BoingEngine:\n",
    "    def start(self):\n",
    "        print('Starting Boing Engine\\n')\n",
    "        \n",
    "ab = AirbusEngine()\n",
    "b = BoingEngine()\n",
    "\n",
    "ea = Engine(ab)\n",
    "eb = Engine(b)\n",
    "\n",
    "ea.startEngine()\n",
    "eb.startEngine()"
   ]
  }
 ],
 "metadata": {
  "kernelspec": {
   "display_name": "Python 3",
   "language": "python",
   "name": "python3"
  },
  "language_info": {
   "codemirror_mode": {
    "name": "ipython",
    "version": 3
   },
   "file_extension": ".py",
   "mimetype": "text/x-python",
   "name": "python",
   "nbconvert_exporter": "python",
   "pygments_lexer": "ipython3",
   "version": "3.6.5"
  }
 },
 "nbformat": 4,
 "nbformat_minor": 2
}
