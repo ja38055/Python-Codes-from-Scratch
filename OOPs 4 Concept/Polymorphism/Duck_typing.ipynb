{
 "cells": [
  {
   "cell_type": "code",
   "execution_count": 2,
   "metadata": {},
   "outputs": [
    {
     "name": "stdout",
     "output_type": "stream",
     "text": [
      "Quack Quack...\n",
      "\n",
      "Hello!\n",
      "\n",
      "Hello!\n",
      "\n",
      "Quack Quack...\n",
      "\n"
     ]
    }
   ],
   "source": [
    "class Duck:\n",
    "    def talk(self):\n",
    "        print('Quack Quack...\\n')\n",
    "class Human:\n",
    "    def talk(self):\n",
    "        print('Hello!\\n')\n",
    "def calltalk(obj):\n",
    "    obj.talk()\n",
    "    \n",
    "d = Duck()\n",
    "h = Human()\n",
    "calltalk(d)\n",
    "calltalk(h)\n",
    "calltalk(h)\n",
    "calltalk(d)"
   ]
  }
 ],
 "metadata": {
  "kernelspec": {
   "display_name": "Python 3",
   "language": "python",
   "name": "python3"
  },
  "language_info": {
   "codemirror_mode": {
    "name": "ipython",
    "version": 3
   },
   "file_extension": ".py",
   "mimetype": "text/x-python",
   "name": "python",
   "nbconvert_exporter": "python",
   "pygments_lexer": "ipython3",
   "version": "3.6.5"
  }
 },
 "nbformat": 4,
 "nbformat_minor": 2
}
