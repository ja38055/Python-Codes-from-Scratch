{
 "cells": [
  {
   "cell_type": "markdown",
   "metadata": {},
   "source": [
    "### In interface, each and every method should be abstract"
   ]
  },
  {
   "cell_type": "code",
   "execution_count": 1,
   "metadata": {},
   "outputs": [
    {
     "name": "stdout",
     "output_type": "stream",
     "text": [
      "***DELL Scroll Successful***\n",
      "***DELL click Successful***\n",
      "***HP Scroll Successful***\n",
      "***HP Click Successful***\n"
     ]
    }
   ],
   "source": [
    "from abc import abstractmethod,ABC\n",
    "class TouchScreenLaptop(ABC):\n",
    "            \n",
    "    @abstractmethod\n",
    "    def scroll(self):\n",
    "        pass\n",
    "    @abstractmethod\n",
    "    def click(self):\n",
    "        pass\n",
    "           \n",
    "class Dell(TouchScreenLaptop):\n",
    "    \n",
    "    def scroll(self):\n",
    "        print('***DELL Scroll Successful***')\n",
    "    \n",
    "      \n",
    "class Hp(TouchScreenLaptop):\n",
    "    \n",
    "    def scroll(self):\n",
    "        print('***HP Scroll Successful***')\n",
    "\n",
    "class DellNotebook(Dell):\n",
    "    \n",
    "    def click(self):\n",
    "        print('***DELL click Successful***')\n",
    "    \n",
    "      \n",
    "class HpNotebook(Hp):\n",
    "    \n",
    "    def click(self):\n",
    "        print('***HP Click Successful***')\n",
    "            \n",
    "dell = DellNotebook()\n",
    "dell.scroll()\n",
    "dell.click()\n",
    "\n",
    "hp = HpNotebook()\n",
    "hp.scroll()\n",
    "hp.click()"
   ]
  }
 ],
 "metadata": {
  "kernelspec": {
   "display_name": "Python 3",
   "language": "python",
   "name": "python3"
  },
  "language_info": {
   "codemirror_mode": {
    "name": "ipython",
    "version": 3
   },
   "file_extension": ".py",
   "mimetype": "text/x-python",
   "name": "python",
   "nbconvert_exporter": "python",
   "pygments_lexer": "ipython3",
   "version": "3.6.5"
  }
 },
 "nbformat": 4,
 "nbformat_minor": 2
}
