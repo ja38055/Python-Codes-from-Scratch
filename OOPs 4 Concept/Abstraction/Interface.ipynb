{
 "cells": [
  {
   "cell_type": "markdown",
   "metadata": {},
   "source": [
    "### In interface, each and every method should be abstract"
   ]
  },
  {
   "cell_type": "code",
   "execution_count": 1,
   "metadata": {},
   "outputs": [
    {
     "name": "stdout",
     "output_type": "stream",
     "text": [
      "***Button Start***\n",
      "Cruise Control Enabled: True\n",
      "Make: BMW\n",
      "Model: 328i\n",
      "Year: 2018\n",
      "***Button Stop***\n",
      "***Remote Start***\n",
      "Parking Assist Enabled: True\n",
      "Make: BMW\n",
      "Model: 655T\n",
      "Year: 2018\n",
      "***Remote Stop***\n"
     ]
    }
   ],
   "source": [
    "from abc import abstractmethod,ABC\n",
    "class BMW(ABC):\n",
    "    \n",
    "    def __init__(self,make,model,year):\n",
    "        self.make = make\n",
    "        self.model = model\n",
    "        self.year = year\n",
    "    @abstractmethod\n",
    "    def start(self):\n",
    "        pass\n",
    "    @abstractmethod\n",
    "    def stop(self):\n",
    "        pass\n",
    "    @abstractmethod\n",
    "    def drive(self):\n",
    "        pass    \n",
    "        \n",
    "class ThreeSeries(BMW):\n",
    "    \n",
    "    def __init__(self,cruiseControlEnabled,make, model, year):\n",
    "        super().__init__(make,model,year)\n",
    "        self.cruiseControlEnabled = cruiseControlEnabled\n",
    "    def start(self):\n",
    "        print('***Button Start***')\n",
    "    def stop(self):\n",
    "        print('***Button Stop***')\n",
    "    def drive(self):\n",
    "        print('***Driving Start***')\n",
    "    def display(self):\n",
    "        print('Cruise Control Enabled:',self.cruiseControlEnabled)\n",
    "        \n",
    "class FiveSeries(BMW):\n",
    "    \n",
    "    def __init__(self,parkingAssistEnabled,make, model, year):\n",
    "        super().__init__(make,model,year)\n",
    "        self.parkingAssistEnabled = parkingAssistEnabled\n",
    "    def start(self):\n",
    "        print('***Remote Start***')\n",
    "    def stop(self):\n",
    "        print('***Remote Stop***')\n",
    "    def drive(self):\n",
    "        print('***Driving Start***')    \n",
    "    def display(self):\n",
    "        print('Parking Assist Enabled:',self.parkingAssistEnabled)\n",
    "            \n",
    "threeseries = ThreeSeries(True, 'BMW', '328i',2018)\n",
    "threeseries.start()\n",
    "threeseries.display()\n",
    "print('Make:',threeseries.make)\n",
    "print('Model:',threeseries.model)\n",
    "print('Year:',threeseries.year)\n",
    "threeseries.stop()\n",
    "\n",
    "fiveseries = FiveSeries(True, 'BMW', '655T',2018)\n",
    "fiveseries.start()\n",
    "fiveseries.display()\n",
    "print('Make:',fiveseries.make)\n",
    "print('Model:',fiveseries.model)\n",
    "print('Year:',fiveseries.year)\n",
    "fiveseries.stop()"
   ]
  }
 ],
 "metadata": {
  "kernelspec": {
   "display_name": "Python 3",
   "language": "python",
   "name": "python3"
  },
  "language_info": {
   "codemirror_mode": {
    "name": "ipython",
    "version": 3
   },
   "file_extension": ".py",
   "mimetype": "text/x-python",
   "name": "python",
   "nbconvert_exporter": "python",
   "pygments_lexer": "ipython3",
   "version": "3.6.5"
  }
 },
 "nbformat": 4,
 "nbformat_minor": 2
}
