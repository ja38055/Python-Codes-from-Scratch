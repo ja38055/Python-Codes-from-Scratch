{
 "cells": [
  {
   "cell_type": "code",
   "execution_count": 3,
   "metadata": {},
   "outputs": [
    {
     "ename": "TypeError",
     "evalue": "Can't instantiate abstract class ThreeSeries with abstract methods drive",
     "output_type": "error",
     "traceback": [
      "\u001b[1;31m---------------------------------------------------------------------------\u001b[0m",
      "\u001b[1;31mTypeError\u001b[0m                                 Traceback (most recent call last)",
      "\u001b[1;32m<ipython-input-3-0c03cb1640be>\u001b[0m in \u001b[0;36m<module>\u001b[1;34m()\u001b[0m\n\u001b[0;32m     22\u001b[0m         \u001b[0mself\u001b[0m\u001b[1;33m.\u001b[0m\u001b[0mparkingAssistEnabled\u001b[0m \u001b[1;33m=\u001b[0m \u001b[0mparkingAssistEnabled\u001b[0m\u001b[1;33m\u001b[0m\u001b[0m\n\u001b[0;32m     23\u001b[0m \u001b[1;33m\u001b[0m\u001b[0m\n\u001b[1;32m---> 24\u001b[1;33m \u001b[0mthreeseries\u001b[0m \u001b[1;33m=\u001b[0m \u001b[0mThreeSeries\u001b[0m\u001b[1;33m(\u001b[0m\u001b[1;32mTrue\u001b[0m\u001b[1;33m,\u001b[0m \u001b[1;34m'BMW'\u001b[0m\u001b[1;33m,\u001b[0m \u001b[1;34m'328i'\u001b[0m\u001b[1;33m,\u001b[0m\u001b[1;36m2018\u001b[0m\u001b[1;33m)\u001b[0m\u001b[1;33m\u001b[0m\u001b[0m\n\u001b[0m\u001b[0;32m     25\u001b[0m \u001b[0mprint\u001b[0m\u001b[1;33m(\u001b[0m\u001b[1;34m'Cruise Control Enabled:'\u001b[0m\u001b[1;33m,\u001b[0m\u001b[0mthreeseries\u001b[0m\u001b[1;33m.\u001b[0m\u001b[0mcruiseControlEnabled\u001b[0m\u001b[1;33m)\u001b[0m\u001b[1;33m\u001b[0m\u001b[0m\n\u001b[0;32m     26\u001b[0m \u001b[0mprint\u001b[0m\u001b[1;33m(\u001b[0m\u001b[1;34m'Make:'\u001b[0m\u001b[1;33m,\u001b[0m\u001b[0mthreeseries\u001b[0m\u001b[1;33m.\u001b[0m\u001b[0mmake\u001b[0m\u001b[1;33m)\u001b[0m\u001b[1;33m\u001b[0m\u001b[0m\n",
      "\u001b[1;31mTypeError\u001b[0m: Can't instantiate abstract class ThreeSeries with abstract methods drive"
     ]
    }
   ],
   "source": [
    "from abc import abstractmethod,ABC\n",
    "class BMW(ABC):\n",
    "    \n",
    "    def __init__(self,make,model,year):\n",
    "        self.make = make\n",
    "        self.model = model\n",
    "        self.year = year\n",
    "    @abstractmethod\n",
    "    def drive(self):\n",
    "        pass\n",
    "        \n",
    "class ThreeSeries(BMW):\n",
    "    \n",
    "    def __init__(self,cruiseControlEnabled,make, model, year):\n",
    "        BMW.__init__(self,make,model,year)\n",
    "        self.cruiseControlEnabled = cruiseControlEnabled\n",
    "        \n",
    "class FiveSeries(BMW):\n",
    "    \n",
    "    def __init__(self,parkingAssistEnabled,make, model, year):\n",
    "        BMW.__init__(self,make,model,year)\n",
    "        self.parkingAssistEnabled = parkingAssistEnabled        \n",
    "        \n",
    "threeseries = ThreeSeries(True, 'BMW', '328i',2018)\n",
    "print('Cruise Control Enabled:',threeseries.cruiseControlEnabled)\n",
    "print('Make:',threeseries.make)\n",
    "print('Model:',threeseries.model)\n",
    "print('Year:',threeseries.year)\n",
    "\n",
    "fiveseries = FiveSeries(True, 'BMW', '655T',2018)\n",
    "print('\\nParking Assist Enabled:',fiveseries.parkingAssistEnabled)\n",
    "print('Make:',fiveseries.make)\n",
    "print('Model:',fiveseries.model)\n",
    "print('Year:',fiveseries.year)"
   ]
  },
  {
   "cell_type": "markdown",
   "metadata": {},
   "source": [
    "#### As we can see, we have to initialise the drive() in all the class which inherit the BMW class"
   ]
  },
  {
   "cell_type": "code",
   "execution_count": 5,
   "metadata": {},
   "outputs": [
    {
     "name": "stdout",
     "output_type": "stream",
     "text": [
      "Cruise Control Enabled: True\n",
      "Make: BMW\n",
      "Model: 328i\n",
      "Year: 2018\n",
      "Three series successfully driven\n",
      "\n",
      "Parking Assist Enabled: True\n",
      "Make: BMW\n",
      "Model: 655T\n",
      "Year: 2018\n",
      "Five series successfully driven\n"
     ]
    }
   ],
   "source": [
    "from abc import abstractmethod,ABC\n",
    "class BMW(ABC):\n",
    "    \n",
    "    def __init__(self,make,model,year):\n",
    "        self.make = make\n",
    "        self.model = model\n",
    "        self.year = year\n",
    "    @abstractmethod\n",
    "    def drive(self):\n",
    "        pass\n",
    "        \n",
    "class ThreeSeries(BMW):\n",
    "    \n",
    "    def __init__(self,cruiseControlEnabled,make, model, year):\n",
    "        BMW.__init__(self,make,model,year)\n",
    "        self.cruiseControlEnabled = cruiseControlEnabled\n",
    "    def drive(self):\n",
    "        print('Three series successfully driven')\n",
    "        \n",
    "class FiveSeries(BMW):\n",
    "    \n",
    "    def __init__(self,parkingAssistEnabled,make, model, year):\n",
    "        BMW.__init__(self,make,model,year)\n",
    "        self.parkingAssistEnabled = parkingAssistEnabled\n",
    "    def drive(self):\n",
    "        print('Five series successfully driven')\n",
    "        \n",
    "threeseries = ThreeSeries(True, 'BMW', '328i',2018)\n",
    "print('Cruise Control Enabled:',threeseries.cruiseControlEnabled)\n",
    "print('Make:',threeseries.make)\n",
    "print('Model:',threeseries.model)\n",
    "print('Year:',threeseries.year)\n",
    "threeseries.drive()\n",
    "\n",
    "fiveseries = FiveSeries(True, 'BMW', '655T',2018)\n",
    "print('\\nParking Assist Enabled:',fiveseries.parkingAssistEnabled)\n",
    "print('Make:',fiveseries.make)\n",
    "print('Model:',fiveseries.model)\n",
    "print('Year:',fiveseries.year)\n",
    "fiveseries.drive()"
   ]
  }
 ],
 "metadata": {
  "kernelspec": {
   "display_name": "Python 3",
   "language": "python",
   "name": "python3"
  },
  "language_info": {
   "codemirror_mode": {
    "name": "ipython",
    "version": 3
   },
   "file_extension": ".py",
   "mimetype": "text/x-python",
   "name": "python",
   "nbconvert_exporter": "python",
   "pygments_lexer": "ipython3",
   "version": "3.6.5"
  }
 },
 "nbformat": 4,
 "nbformat_minor": 2
}
