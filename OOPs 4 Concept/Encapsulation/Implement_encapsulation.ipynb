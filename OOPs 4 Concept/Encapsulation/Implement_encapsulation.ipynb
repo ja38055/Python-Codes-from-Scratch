{
 "cells": [
  {
   "cell_type": "code",
   "execution_count": 1,
   "metadata": {},
   "outputs": [
    {
     "name": "stdout",
     "output_type": "stream",
     "text": [
      "33\n",
      "Shashank\n"
     ]
    }
   ],
   "source": [
    "class Student:\n",
    "    \n",
    "    def setId(self,id):\n",
    "        self.id = id\n",
    "    def setName(self,name):\n",
    "        self.name = name\n",
    "    def getId(self):\n",
    "        return self.id\n",
    "    def getName(self):\n",
    "        return self.name\n",
    "    \n",
    "s = Student()\n",
    "s.setId(33)\n",
    "s.setName('Shashank')\n",
    "\n",
    "print(s.getId())\n",
    "print(s.getName())"
   ]
  }
 ],
 "metadata": {
  "kernelspec": {
   "display_name": "Python 3",
   "language": "python",
   "name": "python3"
  },
  "language_info": {
   "codemirror_mode": {
    "name": "ipython",
    "version": 3
   },
   "file_extension": ".py",
   "mimetype": "text/x-python",
   "name": "python",
   "nbconvert_exporter": "python",
   "pygments_lexer": "ipython3",
   "version": "3.6.5"
  }
 },
 "nbformat": 4,
 "nbformat_minor": 2
}
