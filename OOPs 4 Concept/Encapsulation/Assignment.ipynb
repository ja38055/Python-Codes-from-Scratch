{
 "cells": [
  {
   "cell_type": "code",
   "execution_count": 2,
   "metadata": {},
   "outputs": [
    {
     "name": "stdout",
     "output_type": "stream",
     "text": [
      "33\n",
      "Shashank\n",
      "1B456\n"
     ]
    }
   ],
   "source": [
    "class Patient:\n",
    "    \n",
    "    def setId(self,id):\n",
    "        self.id = id\n",
    "    def setName(self,name):\n",
    "        self.name = name\n",
    "    def setSSN(self,ssn):\n",
    "        self.ssn = ssn\n",
    "    def getId(self):\n",
    "        return self.id\n",
    "    def getName(self):\n",
    "        return self.name\n",
    "    def getSSN(self):\n",
    "        return self.ssn\n",
    "    \n",
    "p = Patient()\n",
    "p.setId(33)\n",
    "p.setName('Shashank')\n",
    "p.setSSN('1B456')\n",
    "\n",
    "print(p.getId())\n",
    "print(p.getName())\n",
    "print(p.getSSN())"
   ]
  }
 ],
 "metadata": {
  "kernelspec": {
   "display_name": "Python 3",
   "language": "python",
   "name": "python3"
  },
  "language_info": {
   "codemirror_mode": {
    "name": "ipython",
    "version": 3
   },
   "file_extension": ".py",
   "mimetype": "text/x-python",
   "name": "python",
   "nbconvert_exporter": "python",
   "pygments_lexer": "ipython3",
   "version": "3.6.5"
  }
 },
 "nbformat": 4,
 "nbformat_minor": 2
}
