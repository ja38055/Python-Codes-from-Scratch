{
 "cells": [
  {
   "cell_type": "code",
   "execution_count": 3,
   "metadata": {},
   "outputs": [
    {
     "name": "stdout",
     "output_type": "stream",
     "text": [
      "Cruise Control Enabled: True\n",
      "Make: BMW\n",
      "Model: 328i\n",
      "Year: 2018\n",
      "\n",
      "Parking Assist Enabled: True\n",
      "Make: BMW\n",
      "Model: 655T\n",
      "Year: 2018\n"
     ]
    }
   ],
   "source": [
    "class BMW:\n",
    "    \n",
    "    def __init__(self,make,model,year):\n",
    "        self.make = make\n",
    "        self.model = model\n",
    "        self.year = year\n",
    "        \n",
    "class ThreeSeries(BMW):\n",
    "    \n",
    "    def __init__(self,cruiseControlEnabled,make, model, year):\n",
    "        BMW.__init__(self,make,model,year)\n",
    "        self.cruiseControlEnabled = cruiseControlEnabled\n",
    "        \n",
    "class FiveSeries(BMW):\n",
    "    \n",
    "    def __init__(self,parkingAssistEnabled,make, model, year):\n",
    "        BMW.__init__(self,make,model,year)\n",
    "        self.parkingAssistEnabled = parkingAssistEnabled        \n",
    "        \n",
    "threeseries = ThreeSeries(True, 'BMW', '328i',2018)\n",
    "print('Cruise Control Enabled:',threeseries.cruiseControlEnabled)\n",
    "print('Make:',threeseries.make)\n",
    "print('Model:',threeseries.model)\n",
    "print('Year:',threeseries.year)\n",
    "\n",
    "fiveseries = FiveSeries(True, 'BMW', '655T',2018)\n",
    "print('\\nParking Assist Enabled:',fiveseries.parkingAssistEnabled)\n",
    "print('Make:',fiveseries.make)\n",
    "print('Model:',fiveseries.model)\n",
    "print('Year:',fiveseries.year)"
   ]
  }
 ],
 "metadata": {
  "kernelspec": {
   "display_name": "Python 3",
   "language": "python",
   "name": "python3"
  },
  "language_info": {
   "codemirror_mode": {
    "name": "ipython",
    "version": 3
   },
   "file_extension": ".py",
   "mimetype": "text/x-python",
   "name": "python",
   "nbconvert_exporter": "python",
   "pygments_lexer": "ipython3",
   "version": "3.6.5"
  }
 },
 "nbformat": 4,
 "nbformat_minor": 2
}
