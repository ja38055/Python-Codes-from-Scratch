{
 "cells": [
  {
   "cell_type": "code",
   "execution_count": 1,
   "metadata": {},
   "outputs": [
    {
     "name": "stdin",
     "output_type": "stream",
     "text": [
      "Enter a number: 0\n"
     ]
    },
    {
     "name": "stdout",
     "output_type": "stream",
     "text": [
      "***Even Number***\n"
     ]
    }
   ],
   "source": [
    "num = int(input('Enter a number:'))\n",
    "\n",
    "if num%2 == 0:\n",
    "    print('***Even Number***')\n",
    "else:\n",
    "    print('***Odd Number***')"
   ]
  },
  {
   "cell_type": "code",
   "execution_count": 3,
   "metadata": {},
   "outputs": [
    {
     "name": "stdin",
     "output_type": "stream",
     "text": [
      "Enter a number: 0\n"
     ]
    },
    {
     "name": "stdout",
     "output_type": "stream",
     "text": [
      "***number is 0***\n"
     ]
    }
   ],
   "source": [
    "num = int(input('Enter a number:'))\n",
    "\n",
    "if num == 0:\n",
    "    print('***number is 0***')\n",
    "elif num%2 == 0:\n",
    "    print('***Even Number***')\n",
    "else:\n",
    "    print('***Odd Number***')"
   ]
  }
 ],
 "metadata": {
  "kernelspec": {
   "display_name": "Python 3",
   "language": "python",
   "name": "python3"
  },
  "language_info": {
   "codemirror_mode": {
    "name": "ipython",
    "version": 3
   },
   "file_extension": ".py",
   "mimetype": "text/x-python",
   "name": "python",
   "nbconvert_exporter": "python",
   "pygments_lexer": "ipython3",
   "version": "3.6.5"
  }
 },
 "nbformat": 4,
 "nbformat_minor": 2
}
