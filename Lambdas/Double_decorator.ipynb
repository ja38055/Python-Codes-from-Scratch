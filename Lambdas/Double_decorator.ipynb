{
 "cells": [
  {
   "cell_type": "code",
   "execution_count": 1,
   "metadata": {},
   "outputs": [
    {
     "name": "stdout",
     "output_type": "stream",
     "text": [
      "10\n"
     ]
    }
   ],
   "source": [
    "def decor(fun):\n",
    "    def inner():\n",
    "        result = fun()\n",
    "        return result*2\n",
    "    return inner\n",
    "\n",
    "def num():\n",
    "    return 5\n",
    "\n",
    "results = decor(num)\n",
    "print(results())"
   ]
  },
  {
   "cell_type": "markdown",
   "metadata": {},
   "source": [
    "### Decorator using @ symbol"
   ]
  },
  {
   "cell_type": "code",
   "execution_count": 2,
   "metadata": {},
   "outputs": [
    {
     "name": "stdout",
     "output_type": "stream",
     "text": [
      "10\n"
     ]
    }
   ],
   "source": [
    "def decor(fun):\n",
    "    def inner():\n",
    "        result = fun()\n",
    "        return result*2\n",
    "    return inner\n",
    "@decor\n",
    "def num():\n",
    "    return 5\n",
    "\n",
    "\n",
    "print(num())"
   ]
  },
  {
   "cell_type": "markdown",
   "metadata": {},
   "source": [
    "### Dacorator with string"
   ]
  },
  {
   "cell_type": "code",
   "execution_count": 9,
   "metadata": {},
   "outputs": [
    {
     "name": "stdout",
     "output_type": "stream",
     "text": [
      "Hello Ravi How are you?\n"
     ]
    }
   ],
   "source": [
    "def decor(fun):\n",
    "    def inner(n):\n",
    "        result = fun(n)\n",
    "        result+=' How are you?'\n",
    "        return result\n",
    "    return inner\n",
    "@decor\n",
    "def hello(name):\n",
    "    return 'Hello '+name\n",
    "\n",
    "\n",
    "print(hello('Ravi'))"
   ]
  }
 ],
 "metadata": {
  "kernelspec": {
   "display_name": "Python 3",
   "language": "python",
   "name": "python3"
  },
  "language_info": {
   "codemirror_mode": {
    "name": "ipython",
    "version": 3
   },
   "file_extension": ".py",
   "mimetype": "text/x-python",
   "name": "python",
   "nbconvert_exporter": "python",
   "pygments_lexer": "ipython3",
   "version": "3.6.5"
  }
 },
 "nbformat": 4,
 "nbformat_minor": 2
}
