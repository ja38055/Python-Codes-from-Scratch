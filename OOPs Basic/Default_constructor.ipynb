{
 "cells": [
  {
   "cell_type": "code",
   "execution_count": 2,
   "metadata": {},
   "outputs": [],
   "source": [
    "class Product:\n",
    "    def __init__(self):\n",
    "        self.name = 'IPhone'\n",
    "        self.description = \"'It was Aesome!'\"\n",
    "        self.price = 50000"
   ]
  },
  {
   "cell_type": "code",
   "execution_count": 3,
   "metadata": {},
   "outputs": [
    {
     "name": "stdout",
     "output_type": "stream",
     "text": [
      "Product name is  IPhone\n",
      "Product description is  'It was Aesome!'\n",
      "Product price is  50000\n"
     ]
    }
   ],
   "source": [
    "p1 = Product()\n",
    "\n",
    "print('Product name is ',p1.name)\n",
    "print('Product description is ',p1.description)\n",
    "print('Product price is ',p1.price)"
   ]
  },
  {
   "cell_type": "code",
   "execution_count": 4,
   "metadata": {},
   "outputs": [
    {
     "name": "stdout",
     "output_type": "stream",
     "text": [
      "Product name is  IPhone\n",
      "Product description is  'It was Aesome!'\n",
      "Product price is  50000\n"
     ]
    }
   ],
   "source": [
    "p2 = Product()\n",
    "\n",
    "print('Product name is ',p2.name)\n",
    "print('Product description is ',p2.description)\n",
    "print('Product price is ',p2.price)"
   ]
  }
 ],
 "metadata": {
  "kernelspec": {
   "display_name": "Python 3",
   "language": "python",
   "name": "python3"
  },
  "language_info": {
   "codemirror_mode": {
    "name": "ipython",
    "version": 3
   },
   "file_extension": ".py",
   "mimetype": "text/x-python",
   "name": "python",
   "nbconvert_exporter": "python",
   "pygments_lexer": "ipython3",
   "version": "3.6.5"
  }
 },
 "nbformat": 4,
 "nbformat_minor": 2
}
