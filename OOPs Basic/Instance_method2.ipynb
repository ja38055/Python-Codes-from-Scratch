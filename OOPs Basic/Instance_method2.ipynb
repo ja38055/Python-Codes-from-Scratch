{
 "cells": [
  {
   "cell_type": "code",
   "execution_count": 1,
   "metadata": {},
   "outputs": [],
   "source": [
    "class Product:\n",
    "    def __init__(self):\n",
    "        self.name = 'IPhone'\n",
    "        self.description = 'It was Awesome!'\n",
    "        self.price = 50000\n",
    "    \n",
    "    def display(self):\n",
    "        print('Name of the product is',self.name)\n",
    "        print('Description of the product is',self.description)\n",
    "        print('Price of the product is',self.price)"
   ]
  },
  {
   "cell_type": "code",
   "execution_count": 2,
   "metadata": {},
   "outputs": [
    {
     "name": "stdout",
     "output_type": "stream",
     "text": [
      "Name of the product is IPhone\n",
      "Description of the product is It was Awesome!\n",
      "Price of the product is 50000\n"
     ]
    }
   ],
   "source": [
    "p1 = Product()\n",
    "p1.display()"
   ]
  },
  {
   "cell_type": "code",
   "execution_count": 3,
   "metadata": {},
   "outputs": [
    {
     "name": "stdout",
     "output_type": "stream",
     "text": [
      "Name of the product is IPhone\n",
      "Description of the product is It was Awesome!\n",
      "Price of the product is 50000\n"
     ]
    }
   ],
   "source": [
    "p2 = Product()\n",
    "p2.display()"
   ]
  }
 ],
 "metadata": {
  "kernelspec": {
   "display_name": "Python 3",
   "language": "python",
   "name": "python3"
  },
  "language_info": {
   "codemirror_mode": {
    "name": "ipython",
    "version": 3
   },
   "file_extension": ".py",
   "mimetype": "text/x-python",
   "name": "python",
   "nbconvert_exporter": "python",
   "pygments_lexer": "ipython3",
   "version": "3.6.5"
  }
 },
 "nbformat": 4,
 "nbformat_minor": 2
}
