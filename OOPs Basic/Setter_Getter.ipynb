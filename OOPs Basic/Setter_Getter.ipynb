{
 "cells": [
  {
   "cell_type": "code",
   "execution_count": 2,
   "metadata": {},
   "outputs": [],
   "source": [
    "class Programmer:\n",
    "    \n",
    "    def setname(self,name):\n",
    "        self.name = name\n",
    "    def getname(self):\n",
    "        return self.name\n",
    "    def setsalary(self,sal):\n",
    "        self.salary = sal\n",
    "    def getsalary(self):\n",
    "        return self.salary\n",
    "    def settech(self,tech):\n",
    "        self.technology = tech\n",
    "    def gettech(self):\n",
    "        return self.technology"
   ]
  },
  {
   "cell_type": "code",
   "execution_count": 3,
   "metadata": {},
   "outputs": [
    {
     "name": "stdout",
     "output_type": "stream",
     "text": [
      "John\n",
      "50000\n",
      "['Python', 'DJango', 'MongoDB']\n"
     ]
    }
   ],
   "source": [
    "p1 = Programmer()\n",
    "p1.setname('John')\n",
    "p1.setsalary(50000)\n",
    "p1.settech(['Python','DJango','MongoDB'])\n",
    "\n",
    "print(p1.getname())\n",
    "print(p1.getsalary())\n",
    "print(p1.gettech())"
   ]
  }
 ],
 "metadata": {
  "kernelspec": {
   "display_name": "Python 3",
   "language": "python",
   "name": "python3"
  },
  "language_info": {
   "codemirror_mode": {
    "name": "ipython",
    "version": 3
   },
   "file_extension": ".py",
   "mimetype": "text/x-python",
   "name": "python",
   "nbconvert_exporter": "python",
   "pygments_lexer": "ipython3",
   "version": "3.6.5"
  }
 },
 "nbformat": 4,
 "nbformat_minor": 2
}
