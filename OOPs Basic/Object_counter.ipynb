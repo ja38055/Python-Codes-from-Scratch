{
 "cells": [
  {
   "cell_type": "code",
   "execution_count": 1,
   "metadata": {},
   "outputs": [
    {
     "name": "stdout",
     "output_type": "stream",
     "text": [
      "6\n"
     ]
    }
   ],
   "source": [
    "class ObjectCounter:\n",
    "    no_of_object = 0\n",
    "    \n",
    "    def __init__(self):\n",
    "        ObjectCounter.no_of_object+=1\n",
    "        \n",
    "    @staticmethod\n",
    "    def displaycount():\n",
    "        print(ObjectCounter.no_of_object)\n",
    "        \n",
    "o1 = ObjectCounter()\n",
    "o2 = ObjectCounter()\n",
    "o3 = ObjectCounter()\n",
    "o4 = ObjectCounter()\n",
    "o5 = ObjectCounter()\n",
    "o6 = ObjectCounter()\n",
    "\n",
    "ObjectCounter.displaycount()"
   ]
  }
 ],
 "metadata": {
  "kernelspec": {
   "display_name": "Python 3",
   "language": "python",
   "name": "python3"
  },
  "language_info": {
   "codemirror_mode": {
    "name": "ipython",
    "version": 3
   },
   "file_extension": ".py",
   "mimetype": "text/x-python",
   "name": "python",
   "nbconvert_exporter": "python",
   "pygments_lexer": "ipython3",
   "version": "3.6.5"
  }
 },
 "nbformat": 4,
 "nbformat_minor": 2
}
