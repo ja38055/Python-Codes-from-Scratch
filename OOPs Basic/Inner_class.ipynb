{
 "cells": [
  {
   "cell_type": "code",
   "execution_count": 2,
   "metadata": {},
   "outputs": [
    {
     "name": "stdout",
     "output_type": "stream",
     "text": [
      "Engine Started\n"
     ]
    }
   ],
   "source": [
    "class Car:\n",
    "    def __init__(self,Brand,year):\n",
    "        self.brand = Brand\n",
    "        self.year = year\n",
    "        \n",
    "    class Engine:\n",
    "        def __init__(self,number):\n",
    "            self.number = number\n",
    "            \n",
    "        def start(self):\n",
    "            print('Engine Started')\n",
    "            \n",
    "c = Car('Audi',2018)            \n",
    "e = c.Engine(123)\n",
    "e.start()"
   ]
  }
 ],
 "metadata": {
  "kernelspec": {
   "display_name": "Python 3",
   "language": "python",
   "name": "python3"
  },
  "language_info": {
   "codemirror_mode": {
    "name": "ipython",
    "version": 3
   },
   "file_extension": ".py",
   "mimetype": "text/x-python",
   "name": "python",
   "nbconvert_exporter": "python",
   "pygments_lexer": "ipython3",
   "version": "3.6.5"
  }
 },
 "nbformat": 4,
 "nbformat_minor": 2
}
