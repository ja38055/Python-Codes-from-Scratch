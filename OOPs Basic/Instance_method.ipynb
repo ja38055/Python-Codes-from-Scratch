{
 "cells": [
  {
   "cell_type": "code",
   "execution_count": 6,
   "metadata": {},
   "outputs": [],
   "source": [
    "class Course:\n",
    "    def __init__(self,name,ratings):\n",
    "        self.name = name\n",
    "        self.ratings = ratings\n",
    "    \n",
    "    def average(self):\n",
    "        total = len(self.ratings)\n",
    "        avg = sum(self.ratings)/total\n",
    "        print('Average of',self.name,'is',avg)"
   ]
  },
  {
   "cell_type": "code",
   "execution_count": 7,
   "metadata": {},
   "outputs": [
    {
     "name": "stdout",
     "output_type": "stream",
     "text": [
      "Name of the course is Java course\n",
      "Ratings are [1, 2, 3, 3]\n",
      "Average of Java course is 2.25\n"
     ]
    }
   ],
   "source": [
    "c1 = Course('Java course',[1,2,3,3])\n",
    "print('Name of the course is',c1.name)\n",
    "print('Ratings are',c1.ratings)\n",
    "c1.average()"
   ]
  },
  {
   "cell_type": "code",
   "execution_count": 8,
   "metadata": {},
   "outputs": [
    {
     "name": "stdout",
     "output_type": "stream",
     "text": [
      "Name of the course is Data Science course\n",
      "Ratings are [3, 4, 5, 5]\n",
      "Average of Data Science course is 4.25\n"
     ]
    }
   ],
   "source": [
    "c2 = Course('Data Science course',[3,4,5,5])\n",
    "print('Name of the course is',c2.name)\n",
    "print('Ratings are',c2.ratings)\n",
    "c2.average()"
   ]
  }
 ],
 "metadata": {
  "kernelspec": {
   "display_name": "Python 3",
   "language": "python",
   "name": "python3"
  },
  "language_info": {
   "codemirror_mode": {
    "name": "ipython",
    "version": 3
   },
   "file_extension": ".py",
   "mimetype": "text/x-python",
   "name": "python",
   "nbconvert_exporter": "python",
   "pygments_lexer": "ipython3",
   "version": "3.6.5"
  }
 },
 "nbformat": 4,
 "nbformat_minor": 2
}
