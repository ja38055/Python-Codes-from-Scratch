{
 "cells": [
  {
   "cell_type": "code",
   "execution_count": 1,
   "metadata": {},
   "outputs": [
    {
     "name": "stdout",
     "output_type": "stream",
     "text": [
      "Roll No: 18\n",
      "Name: Jatin\n",
      "Branch: CSE\n",
      "\n",
      "Roll No: 33\n",
      "Name: Shashank\n",
      "Branch: CSE\n"
     ]
    }
   ],
   "source": [
    "class Student:\n",
    "    branch = 'CSE'                        # Static field\n",
    "    \n",
    "    def __init__(self,rollno,name):\n",
    "        self.rollno = rollno\n",
    "        self.name = name\n",
    "        \n",
    "s1 = Student(18,'Jatin')\n",
    "s2 = Student(33,'Shashank')\n",
    "\n",
    "print('Roll No:',s1.rollno)\n",
    "print('Name:',s1.name)\n",
    "print('Branch:',s1.branch)                # Static field can be access by object\n",
    "\n",
    "print('\\nRoll No:',s2.rollno)\n",
    "print('Name:',s2.name)\n",
    "print('Branch:',Student.branch)           # Static field can also be access by class"
   ]
  }
 ],
 "metadata": {
  "kernelspec": {
   "display_name": "Python 3",
   "language": "python",
   "name": "python3"
  },
  "language_info": {
   "codemirror_mode": {
    "name": "ipython",
    "version": 3
   },
   "file_extension": ".py",
   "mimetype": "text/x-python",
   "name": "python",
   "nbconvert_exporter": "python",
   "pygments_lexer": "ipython3",
   "version": "3.6.5"
  }
 },
 "nbformat": 4,
 "nbformat_minor": 2
}
